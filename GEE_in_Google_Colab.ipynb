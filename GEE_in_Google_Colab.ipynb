{
 "cells": [
  {
   "cell_type": "markdown",
   "metadata": {},
   "source": [
    "## Google Earth Engine (GEE)\n",
    "\n",
    "\n",
    "GEE is a cloud-based platform for massive-scale analysis of geospatial data. GEE allows users access to a petabyte-scale archive of publicly available remotely sensed imagery, ancillary data and computational tools to accomplish a myriad of remote sensing and geospatial tasks at unprecedented speeds and scales. GEE is free for non-commercial use provided users sign up for a GEE account.\n",
    "\n",
    "## Earth Engine APIs\n",
    "\n",
    "Earth Engine is available through  JavaScript and Python Application Program Interfaces (APIs). The JavaScript API is accessible via a web-based Integrated Development Environment (IDE) called the Code Editor. Through  this platform users can write and execute scripts to share and repeat geospatial analysis and processing workflows. To access Code Editor one can navigate to [https://code.earthengine.google.com/](https://code.earthengine.google.com/) on Google Chrome web browser. The Python API alternative to Earth Engine Javascript API is Google Colaboratory.\n",
    "\n",
    "## Google Colaboratory 'Colab'\n",
    "\n",
    "Colaboratory, or \"Colab\" for short, allows you to write and execute Python directly in your browser, with Zero configuration required, Free access to GPUs, and Easy sharing. The [Welcome to Colaboratory](https://colab.research.google.com/notebooks/intro.ipynb?utm_source=scs-index#scrollTo=GJBs_flRovLc) document has all the necessary info to get started.\n",
    "\n",
    "\n",
    "### Accounts\n",
    "\n",
    "#### Google:\n",
    "\n",
    "To get started with Colab, you will need a [Google Account](https://accounts.google.com/signup/v2/webcreateaccount?flowName=GlifWebSignIn&flowEntry=SignUp). This can be @gmail or an institution/custom google account. You will use this account to access Google Drive, Google Colab, and activate Google Earth Engine.\n",
    "To use the ONS google account, you will require a Google Cloud Titan security key to access the EE code editor. One can obtain this key through ONS Service Desk. \n",
    "\n",
    "\n",
    "#### Google Earth Engine:\n",
    "\n",
    "You wil also need an account for Google Earth Engine. You can [sign up here](https://accounts.google.com/ServiceLogin/webreauth?service=ah&passive=true&continue=https%3A%2F%2Fuc.appengine.google.com%2F_ah%2Fconflogin%3Fcontinue%3Dhttps%3A%2F%2Fsignup.earthengine.google.com%2F&flowName=GlifWebSignIn&flowEntry=ServiceLogin), using your Google Account from the previous step to link everything together nicely. \n",
    "\n",
    "\n"
   ]
  },
  {
   "cell_type": "markdown",
   "metadata": {},
   "source": [
    "\n",
    "## Connections\n",
    "\n",
    "#### Connect Google Drive:\n",
    "\n",
    "You can access files in Drive in a number of ways, including:\n",
    "\n",
    "- Mounting your Google Drive in the runtime's virtual machine\n",
    "- Using a wrapper around the API such as [PyDrive](https://pythonhosted.org/PyDrive/)\n",
    "- Using the [native REST API](https://developers.google.com/drive/api/v3/about-sdk)\n",
    "\n",
    "The example below shows how to mount your Google Drive on your runtime using an authorization code. \n",
    "Run the code block below. The output will show a link you have to open, copy the code from the page that loads and paste back into a cell provided."
   ]
  },
  {
   "cell_type": "code",
   "execution_count": null,
   "metadata": {},
   "outputs": [],
   "source": [
    "### Mount Google Drive\n",
    "\n",
    "# Connect Google Drive\n",
    "from google.colab import drive\n",
    "drive.mount('/content/gdrive/', force_remount=True)"
   ]
  },
  {
   "cell_type": "markdown",
   "metadata": {},
   "source": [
    "**Explore your drive**    \n",
    "\n",
    "Now that you've connected (mounted) google drive to your session, you can access it as a local disk.\n",
    "\n",
    "Explore using python to list files:"
   ]
  },
  {
   "cell_type": "code",
   "execution_count": null,
   "metadata": {},
   "outputs": [],
   "source": [
    "\n",
    "    \n",
    "import os\n",
    "\n",
    "# list the folders and files in your drive\n",
    "mydrive = '/content/gdrive/My Drive'\n",
    "colab = '/content/gdrive/My Drive/Colab Notebooks'\n",
    "print(os.listdir(mydrive))\n",
    "\n",
    "# list the current working directory\n",
    "print(os.getcwd())\n",
    "\n",
    "# # create a sub-folder called data under your 'Colab Notebooks'\n",
    "data_folder = os.path.join(colab,'data')\n",
    "os.path.isdir(data_folder)\n",
    "if (not os.path.isdir(data_folder)):\n",
    "  os.mkdir(data_folder)\n",
    "# list the contents\n",
    "print(os.listdir(colab))\n",
    "\n",
    "# root directory for outputs is set to your google drive\n",
    "my_root_dir = \"/content/gdrive/My Drive/Colab Notebooks/data\""
   ]
  },
  {
   "cell_type": "markdown",
   "metadata": {},
   "source": [
    "### Import, Authenticate and Initialize Earth Engine API\n",
    "\n",
    "The Earth Engine API (ee) is installed by default in Google Colab so requires only importing and authenticating. These steps must be completed for each new Colab session, if you restart your Colab kernel, or if your Colab virtual machine is recycled due to inactivity.\n",
    "\n"
   ]
  },
  {
   "cell_type": "code",
   "execution_count": null,
   "metadata": {},
   "outputs": [],
   "source": [
    "# If not on Colab you'll need to install the earth-engine Python API\n",
    "!pip install earthengine-api #earth-engine Python API\n",
    "\n",
    "# import Python API. \n",
    "import ee\n",
    "\n",
    "# Athenticate to EE servers. \n",
    "ee.Authenticate()\n",
    "\n",
    "# Initialize the API\n",
    "ee.Initialize()\n",
    "\n",
    "\n",
    "#The authorization workflow will generate a code, which you should paste in the box below. "
   ]
  },
  {
   "cell_type": "markdown",
   "metadata": {},
   "source": [
    "### Install packages and libraries"
   ]
  },
  {
   "cell_type": "code",
   "execution_count": null,
   "metadata": {},
   "outputs": [],
   "source": [
    "# Install packages\n",
    "%pip install geopandas rasterio rasterstats shapely\n",
    "%pip install folium "
   ]
  },
  {
   "cell_type": "markdown",
   "metadata": {},
   "source": [
    "#### **Import libraries**"
   ]
  },
  {
   "cell_type": "code",
   "execution_count": null,
   "metadata": {},
   "outputs": [],
   "source": [
    "# import required libraries \n",
    "\n",
    "from os import path as op\n",
    "import pickle\n",
    "\n",
    "import geopandas as gpd\n",
    "import shapely as shp\n",
    "import matplotlib.pyplot as plt\n",
    "import numpy as np\n",
    "import rasterio as rio\n",
    "from rasterio.features import rasterize\n",
    "from rasterstats.io import bounds_window\n",
    "import rasterstats\n",
    "import folium"
   ]
  },
  {
   "cell_type": "markdown",
   "metadata": {},
   "source": [
    "### Do a search\n",
    "Let's query Earth Engine [data collections] by looking for Imagery of UK.\n",
    "\n",
    "We are going to:\n",
    "\n",
    "Define a bounding box or center point  using [geojson.io](https://geojson.io/#map=6/54.489/-3.922)     \n",
    "Identify the collection   \n",
    "Query and create an ImageCollection   \n",
    "Display on a map   \n",
    "Export   ?     \n",
    "Reload Raster and Explore  ? "
   ]
  },
  {
   "cell_type": "code",
   "execution_count": null,
   "metadata": {},
   "outputs": [],
   "source": [
    "# Define  bounding box using \n",
    "\n",
    "# Make sure we have the libraries we need\n",
    "# %pip install folium\n",
    "# %pip install geopandas"
   ]
  },
  {
   "cell_type": "code",
   "execution_count": null,
   "metadata": {},
   "outputs": [],
   "source": [
    "# Paste the Geojson from geojsonio\n",
    "aoi_geojson = '''{\n",
    "  \"type\": \"FeatureCollection\",\n",
    "  \"features\": [\n",
    "    {\n",
    "      \"type\": \"Feature\",\n",
    "      \"properties\": {},\n",
    "      \"geometry\": {\n",
    "        \"type\": \"Polygon\",\n",
    "        \"coordinates\": [\n",
    "          [\n",
    "            [\n",
    "              -2.0654296875,\n",
    "              61.14323525084058\n",
    "            ],\n",
    "            [\n",
    "              -5.185546875,\n",
    "              60.34869562531862\n",
    "            ],\n",
    "            [\n",
    "              -7.9541015625,\n",
    "              58.37867853932655\n",
    "            ],\n",
    "            [\n",
    "              -10.107421874999998,\n",
    "              54.39335222384589\n",
    "            ],\n",
    "            [\n",
    "              -6.3720703125,\n",
    "              53.461890432859114\n",
    "            ],\n",
    "            [\n",
    "              -6.943359374999999,\n",
    "              49.781264058178344\n",
    "            ],\n",
    "            [\n",
    "              -2.197265625,\n",
    "              50.00773901463687\n",
    "            ],\n",
    "            [\n",
    "              1.9335937499999998,\n",
    "              51.17934297928927\n",
    "            ],\n",
    "            [\n",
    "              2.5927734375,\n",
    "              52.82932091031373\n",
    "            ],\n",
    "            [\n",
    "              -0.48339843749999994,\n",
    "              55.99838095535963\n",
    "            ],\n",
    "            [\n",
    "              -1.3623046875,\n",
    "              58.65408464530598\n",
    "            ],\n",
    "            [\n",
    "              0.52734375,\n",
    "              61.33353967329144\n",
    "            ],\n",
    "            [\n",
    "              -2.0654296875,\n",
    "              61.14323525084058\n",
    "            ]\n",
    "          ]\n",
    "        ]\n",
    "      }\n",
    "    }\n",
    "  ]\n",
    "}'''\n",
    "\n",
    "# Now let's read the geojson into a GeoPandasDataframe\n",
    "aoi = gpd.read_file(aoi_geojson)\n",
    "print(aoi) # so we can see what it looks like\n",
    "\n",
    "#Get the bounding box\n",
    "bbox = aoi.total_bounds\n",
    "print(bbox) # see the coordinates\n",
    "\n",
    "#Make it a GEE rectangle\n",
    "gee_aoi = ee.Geometry.Rectangle(bbox.tolist())\n",
    "center = aoi.centroid[0]"
   ]
  },
  {
   "cell_type": "code",
   "execution_count": null,
   "metadata": {},
   "outputs": [],
   "source": [
    "# load map\n",
    "\n",
    "uk_osm = folium.Map(location=[center.y, center.x], tiles=\"OpenStreetMap\", zoom_start=6)\n",
    "\n",
    "folium.Marker(\n",
    "    location=[center.y, center.x],\n",
    "    popup='Center',\n",
    "    icon=folium.Icon(color='green', icon='ok-sign'),\n",
    ").add_to(uk_osm)\n",
    "\n",
    "folium.features.GeoJson(aoi_geojson,\n",
    "                        style_function = lambda x: {'color':'blue', 'fillcolor':'transparent'}\n",
    "                        ).add_to(uk_osm)\n",
    "    \n",
    "uk_osm"
   ]
  },
  {
   "cell_type": "markdown",
   "metadata": {},
   "source": [
    "### Query Google Earth Engine\n",
    "Now lets pick a collection of imagery to query for the region. We can choose from anything in the Google Earth Engine [data catalog](https://developers.google.com/earth-engine/datasets/catalog)\n",
    "\n",
    "Let's start with the [Landsat 8 Surface Reflectance](https://developers.google.com/earth-engine/datasets/catalog/LANDSAT_LC08_C02_T1_L2) from 2020, using a cloud mask and selecting the bands to make an R,G,B mosiac"
   ]
  },
  {
   "cell_type": "code",
   "execution_count": null,
   "metadata": {},
   "outputs": [],
   "source": [
    "# To make a map we first need some helper functions\n",
    "\n",
    "# Define the URL format used for Earth Engine generated map tiles.\n",
    "EE_TILES = 'https://earthengine.googleapis.com/map/{mapid}/{{z}}/{{x}}/{{y}}?token={token}'\n",
    "\n",
    "# map and display \n",
    "def Mapdisplay(center, dicc, Tiles=\"OpensTreetMap\",zoom_start=10):\n",
    "    '''\n",
    "    :param center: Center of the map (Latitude and Longitude).\n",
    "    :param dicc: Earth Engine Geometries or Tiles dictionary\n",
    "    :param Tiles: Mapbox Bright,Mapbox Control Room,Stamen Terrain,Stamen Toner,stamenwatercolor,cartodbpositron.\n",
    "    :zoom_start: Initial zoom level for the map.\n",
    "    :return: A folium.Map object.\n",
    "    '''\n",
    "    mapViz = folium.Map(location=center,tiles=Tiles, zoom_start=zoom_start)\n",
    "    for k,v in dicc.items():\n",
    "      if ee.image.Image in [type(x) for x in v.values()]:\n",
    "        folium.TileLayer(\n",
    "            tiles = v[\"tile_fetcher\"].url_format,\n",
    "            attr  = 'Google Earth Engine',\n",
    "            overlay =True,\n",
    "            name  = k\n",
    "          ).add_to(mapViz)\n",
    "      else:\n",
    "        folium.GeoJson(\n",
    "        data = v,\n",
    "        name = k\n",
    "          ).add_to(mapViz)\n",
    "    mapViz.add_child(folium.LayerControl())\n",
    "    return mapViz"
   ]
  },
  {
   "cell_type": "code",
   "execution_count": null,
   "metadata": {},
   "outputs": [],
   "source": [
    "# Fetch Landsat imagery from GEE and make a map\n",
    "\n",
    "l8_image = ee.ImageCollection('LANDSAT/LC08/C01/T1_SR')\\\n",
    "    .filterDate('2020-04-01', '2020-08-31')\\\n",
    "    .median() \\\n",
    "    \n",
    "\n",
    "# image visible parameters for making map\n",
    "l8_vis_params = {\n",
    "  'bands': ['B4', 'B3', 'B2'], # true color visible bands\n",
    "  'min': 0,\n",
    "  'max': 3000,\n",
    "}\n",
    "\n",
    "# make and display map\n",
    "Mapdisplay(center=[center.y, center.x],\n",
    "           dicc={'L8':l8_image.getMapId(l8_vis_params)}, \n",
    "           zoom_start=5)"
   ]
  },
  {
   "cell_type": "markdown",
   "metadata": {},
   "source": [
    "#### Sub-setting and exporting to google Drive\n",
    "\n",
    "At some point we often want to export data from Earth Engine for other uses. You may export because you need access to algorithms, data, or map making tools that just aren't possible in Earth Engine.\n"
   ]
  },
  {
   "cell_type": "code",
   "execution_count": null,
   "metadata": {},
   "outputs": [],
   "source": [
    "# Subset to our aoi\n",
    "band_sel = ('B2', 'B3', 'B4', 'B5')\n",
    "\n",
    "l8_image_aoi = ee.ImageCollection('LANDSAT/LC08/C01/T1_SR')\\\n",
    "    .filterDate('2020-01-01', '2020-08-31')\\\n",
    "    .select(band_sel)\\\n",
    "    .filterBounds(gee_aoi)\\\n",
    "    .median()\n",
    "\n",
    "l8_image_aoi.getInfo()\n",
    "\n",
    "Mapdisplay(center=[center.y, center.x],\n",
    "           dicc={'L8':l8_image_aoi.getMapId(l8_vis_params)}, \n",
    "           zoom_start=5)"
   ]
  },
  {
   "cell_type": "markdown",
   "metadata": {},
   "source": [
    "## Calculate NDVI"
   ]
  },
  {
   "cell_type": "code",
   "execution_count": null,
   "metadata": {},
   "outputs": [],
   "source": [
    "# calculate NDVI using NDVI built-in function\n",
    "def getNDVI(image):\n",
    "  return image.normalizedDifference(['B4', 'B3'])\n",
    "image1 = ee.Image(l8_image_aoi) # l8_image_aoi is the landsat image\n",
    "\n",
    "# compute NDVI from scene\n",
    "l8_ndvi = getNDVI(image1)\n",
    "ndviParams = {'palette': ['#0000cd', '#006400', 'ce7e45', '#ff0000', '22cc04', '207401', '012e01']}\n",
    "\n",
    "# make and display ndvi map\n",
    "Mapdisplay(center=[center.y, center.x],\n",
    "           dicc={'L8':l8_ndvi.getMapId(ndviParams)}, \n",
    "           zoom_start=5)"
   ]
  },
  {
   "cell_type": "markdown",
   "metadata": {},
   "source": [
    "### Display composites from NOAA CDR AVHRR NDVI"
   ]
  },
  {
   "cell_type": "code",
   "execution_count": null,
   "metadata": {},
   "outputs": [],
   "source": [
    "# Fetch NOAA CDR AVHRR NDVI: Normalized Difference Vegetation Index, Version 5 composites  from GEE and make a map\n",
    "\n",
    "ndvi_image = ee.ImageCollection('NOAA/CDR/AVHRR/NDVI/V5')\\\n",
    "      .filter(ee.Filter.date('2018-05-01', '2018-06-01'));\n",
    "\n",
    "ndvi_vis = {\n",
    "  'bands': ['NDVI'],\n",
    "  'min': -1000, 'max': 5000,\n",
    "  'palette': ['ffffff', 'ce7e45', 'fcd163', 'c6ca02', '22cc04', '99b718', '207401', '012e01']\n",
    "}\n",
    "                  \n",
    "# make and display map\n",
    "Mapdisplay(center=[center.y, center.x],\n",
    "           dicc={'NDVI':ndvi_image.getMapId(ndvi_vis)}, \n",
    "           zoom_start=5)"
   ]
  },
  {
   "cell_type": "code",
   "execution_count": null,
   "metadata": {},
   "outputs": [],
   "source": []
  },
  {
   "cell_type": "code",
   "execution_count": null,
   "metadata": {},
   "outputs": [],
   "source": []
  },
  {
   "cell_type": "code",
   "execution_count": null,
   "metadata": {},
   "outputs": [],
   "source": []
  }
 ],
 "metadata": {
  "kernelspec": {
   "display_name": "Python 3",
   "language": "python",
   "name": "python3"
  },
  "language_info": {
   "codemirror_mode": {
    "name": "ipython",
    "version": 3
   },
   "file_extension": ".py",
   "mimetype": "text/x-python",
   "name": "python",
   "nbconvert_exporter": "python",
   "pygments_lexer": "ipython3",
   "version": "3.8.3"
  }
 },
 "nbformat": 4,
 "nbformat_minor": 4
}
